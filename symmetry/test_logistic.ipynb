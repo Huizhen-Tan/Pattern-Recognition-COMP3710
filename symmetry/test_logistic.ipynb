{
  "nbformat": 4,
  "nbformat_minor": 0,
  "metadata": {
    "colab": {
      "name": "test-logistic.ipynb",
      "provenance": [],
      "collapsed_sections": [],
      "include_colab_link": true
    },
    "kernelspec": {
      "name": "python3",
      "display_name": "Python 3"
    }
  },
  "cells": [
    {
      "cell_type": "markdown",
      "metadata": {
        "id": "view-in-github",
        "colab_type": "text"
      },
      "source": [
        "<a href=\"https://colab.research.google.com/github/Huizhen-Tan/Pattern-Recognition-COMP3710/blob/master/symmetry/test_logistic.ipynb\" target=\"_parent\"><img src=\"https://colab.research.google.com/assets/colab-badge.svg\" alt=\"Open In Colab\"/></a>"
      ]
    },
    {
      "cell_type": "markdown",
      "metadata": {
        "id": "hbzp3ErDgm-7",
        "colab_type": "text"
      },
      "source": [
        "# Logistic Map\n",
        "Let us model population growth using a very simple model. Despite its simplicity, we will show that even these system can exhibit complex behaviour. Let's use the Logistic map as a starting point $P = \\lambda D_nB_n$ with $\\lambda$ as the fertility, $B_n$ and $D_n$ as the birth and death rates at time $n$ respectively. Replacing $B_n$ with standard notation $x_n$ and writing death as a function of births, we get our equation as $x_{n+1}=\\lambda\\cdot x_n (1-x_n)$"
      ]
    },
    {
      "cell_type": "code",
      "metadata": {
        "id": "uP3W2bk2nFVs",
        "colab_type": "code",
        "colab": {}
      },
      "source": [
        "import numpy as np"
      ],
      "execution_count": null,
      "outputs": []
    },
    {
      "cell_type": "code",
      "metadata": {
        "id": "gdS9ipaughkc",
        "colab_type": "code",
        "colab": {}
      },
      "source": [
        "N = 30 # number of steps to compute\n",
        "x = 0.5\n",
        "Lambda = 2.3"
      ],
      "execution_count": null,
      "outputs": []
    },
    {
      "cell_type": "code",
      "metadata": {
        "id": "la_jvYtai85G",
        "colab_type": "code",
        "colab": {}
      },
      "source": [
        "T = np.arange(N)\n",
        "X = np.zeros(N)\n",
        "\n",
        "for t in T:\n",
        "    x = Lambda*x*(1-x)\n",
        "    X[t] = x"
      ],
      "execution_count": null,
      "outputs": []
    },
    {
      "cell_type": "code",
      "metadata": {
        "id": "kA9XCE_fn9gO",
        "colab_type": "code",
        "colab": {
          "base_uri": "https://localhost:8080/",
          "height": 287
        },
        "outputId": "d68f9992-aaa8-40e7-ef44-162d79f6af80"
      },
      "source": [
        "import matplotlib.pyplot as plt\n",
        "\n",
        "plt.plot(T, X, '-k')"
      ],
      "execution_count": null,
      "outputs": [
        {
          "output_type": "execute_result",
          "data": {
            "text/plain": [
              "[<matplotlib.lines.Line2D at 0x7f25c362b208>]"
            ]
          },
          "metadata": {
            "tags": []
          },
          "execution_count": 31
        },
        {
          "output_type": "display_data",
          "data": {
            "image/png": "[encoded data removed]",
            "text/plain": [
              "<Figure size 432x288 with 1 Axes>"
            ]
          },
          "metadata": {
            "tags": []
          }
        }
      ]
    },
    {
      "cell_type": "code",
      "metadata": {
        "id": "0oo7HJHCoHme",
        "colab_type": "code",
        "colab": {}
      },
      "source": [
        "Lambda = 0.65\n",
        "x = 0.5\n",
        "\n",
        "X = np.zeros(N)\n",
        "for t in T:\n",
        "    x = Lambda*x*(1-x)\n",
        "    X[t] = x"
      ],
      "execution_count": null,
      "outputs": []
    },
    {
      "cell_type": "code",
      "metadata": {
        "id": "o7CcSoSpohpg",
        "colab_type": "code",
        "colab": {
          "base_uri": "https://localhost:8080/",
          "height": 287
        },
        "outputId": "040b7853-9ddc-4c4a-848a-3fc1188a09e2"
      },
      "source": [
        "plt.plot(T, X, '-k')"
      ],
      "execution_count": null,
      "outputs": [
        {
          "output_type": "execute_result",
          "data": {
            "text/plain": [
              "[<matplotlib.lines.Line2D at 0x7f25c3587860>]"
            ]
          },
          "metadata": {
            "tags": []
          },
          "execution_count": 33
        },
        {
          "output_type": "display_data",
          "data": {
            "image/png": "[encoded data removed]",
            "text/plain": [
              "<Figure size 432x288 with 1 Axes>"
            ]
          },
          "metadata": {
            "tags": []
          }
        }
      ]
    },
    {
      "cell_type": "code",
      "metadata": {
        "id": "D5v_PK20okcP",
        "colab_type": "code",
        "colab": {}
      },
      "source": [
        "Lambda = 3.2\n",
        "x = 0.5\n",
        "\n",
        "X = np.zeros(N)\n",
        "for t in T:\n",
        "    x = Lambda*x*(1-x)\n",
        "    X[t] = x"
      ],
      "execution_count": null,
      "outputs": []
    },
    {
      "cell_type": "code",
      "metadata": {
        "id": "Wo4RCKXto34P",
        "colab_type": "code",
        "colab": {
          "base_uri": "https://localhost:8080/",
          "height": 287
        },
        "outputId": "b1afd903-e71a-49b7-87e8-d9db883263b5"
      },
      "source": [
        "plt.plot(T, X, '-k')"
      ],
      "execution_count": null,
      "outputs": [
        {
          "output_type": "execute_result",
          "data": {
            "text/plain": [
              "[<matplotlib.lines.Line2D at 0x7f25c356ba58>]"
            ]
          },
          "metadata": {
            "tags": []
          },
          "execution_count": 35
        },
        {
          "output_type": "display_data",
          "data": {
            "image/png": "[encoded data removed]",
            "text/plain": [
              "<Figure size 432x288 with 1 Axes>"
            ]
          },
          "metadata": {
            "tags": []
          }
        }
      ]
    },
    {
      "cell_type": "code",
      "metadata": {
        "id": "YQsYKyxso5iw",
        "colab_type": "code",
        "colab": {}
      },
      "source": [
        "Lambda = 3.5\n",
        "x = 0.5\n",
        "\n",
        "X = np.zeros(N)\n",
        "for t in T:\n",
        "    x = Lambda*x*(1-x)\n",
        "    X[t] = x"
      ],
      "execution_count": null,
      "outputs": []
    },
    {
      "cell_type": "code",
      "metadata": {
        "id": "RgCfGke0pBSx",
        "colab_type": "code",
        "colab": {
          "base_uri": "https://localhost:8080/",
          "height": 287
        },
        "outputId": "26d0027e-433f-4a16-9a79-582d010dcac4"
      },
      "source": [
        "plt.plot(T, X, '-k')"
      ],
      "execution_count": null,
      "outputs": [
        {
          "output_type": "execute_result",
          "data": {
            "text/plain": [
              "[<matplotlib.lines.Line2D at 0x7f25c34cd278>]"
            ]
          },
          "metadata": {
            "tags": []
          },
          "execution_count": 37
        },
        {
          "output_type": "display_data",
          "data": {
            "image/png": "[encoded data removed]",
            "text/plain": [
              "<Figure size 432x288 with 1 Axes>"
            ]
          },
          "metadata": {
            "tags": []
          }
        }
      ]
    },
    {
      "cell_type": "code",
      "metadata": {
        "id": "rpaR6k0FpB4f",
        "colab_type": "code",
        "colab": {}
      },
      "source": [
        "def logistic(r, x):\n",
        "    '''\n",
        "    The logistic equation\n",
        "    '''\n",
        "    return r * x * (1 - x)"
      ],
      "execution_count": null,
      "outputs": []
    },
    {
      "cell_type": "code",
      "metadata": {
        "id": "KOolkbl4peeQ",
        "colab_type": "code",
        "colab": {
          "base_uri": "https://localhost:8080/",
          "height": 378
        },
        "outputId": "27f57dc6-ebbc-41d2-91c3-350e40dfa5aa"
      },
      "source": [
        "N = 1000\n",
        "T = np.arange(N)\n",
        "last = 100\n",
        "deltaLambda = 1000\n",
        "x0 = 0.5\n",
        "Lambdas = np.linspace(0.6, 3.5, deltaLambda)\n",
        "x = x0 * np.ones_like(Lambdas)\n",
        "\n",
        "fig = plt.figure(figsize=(8,6))\n",
        "\n",
        "for t in T:\n",
        "    x = logistic(Lambdas, x)\n",
        "    \n",
        "    #Display the plot\n",
        "    if t >= (N - last):\n",
        "        plt.plot(Lambdas, x, ',k', alpha=.25)"
      ],
      "execution_count": null,
      "outputs": [
        {
          "output_type": "display_data",
          "data": {
            "image/png": "[encoded data removed]",
            "text/plain": [
              "<Figure size 576x432 with 1 Axes>"
            ]
          },
          "metadata": {
            "tags": []
          }
        }
      ]
    },
    {
      "cell_type": "code",
      "metadata": {
        "id": "_jkyQY2aq39j",
        "colab_type": "code",
        "colab": {}
      },
      "source": [
        ""
      ],
      "execution_count": null,
      "outputs": []
    }
  ]
}