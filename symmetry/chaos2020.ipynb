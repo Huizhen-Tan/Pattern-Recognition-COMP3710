{
  "nbformat": 4,
  "nbformat_minor": 0,
  "metadata": {
    "colab": {
      "name": "chaos2020.ipynb",
      "provenance": [],
      "collapsed_sections": [],
      "include_colab_link": true
    },
    "kernelspec": {
      "name": "python3",
      "display_name": "Python 3"
    }
  },
  "cells": [
    {
      "cell_type": "markdown",
      "metadata": {
        "id": "view-in-github",
        "colab_type": "text"
      },
      "source": [
        "<a href=\"https://colab.research.google.com/github/Huizhen-Tan/Pattern-Recognition-COMP3710/blob/master/symmetry/chaos2020.ipynb\" target=\"_parent\"><img src=\"https://colab.research.google.com/assets/colab-badge.svg\" alt=\"Open In Colab\"/></a>"
      ]
    },
    {
      "cell_type": "markdown",
      "metadata": {
        "id": "Q2gpUj28VxgJ",
        "colab_type": "text"
      },
      "source": [
        "The Chaos Game for creating fractal attractors.\n",
        "\n",
        "Create the points for the game"
      ]
    },
    {
      "cell_type": "code",
      "metadata": {
        "id": "36ailaLRVnAa",
        "colab_type": "code",
        "colab": {
          "base_uri": "https://localhost:8080/",
          "height": 35
        },
        "outputId": "b7a42082-da2c-46fa-f274-22f2929cbc7c"
      },
      "source": [
        "import numpy as np\n",
        "\n",
        "n = 3\n",
        "\n",
        "#generate n equi-distant points on the unit circle\n",
        "r = np.arange(0,n)\n",
        "points = np.exp(2.0*np.pi*1j*r/n)\n",
        "print(\"Points:\", points)"
      ],
      "execution_count": null,
      "outputs": [
        {
          "output_type": "stream",
          "text": [
            "Points: [ 1. +0.j        -0.5+0.8660254j -0.5-0.8660254j]\n"
          ],
          "name": "stdout"
        }
      ]
    },
    {
      "cell_type": "markdown",
      "metadata": {
        "id": "-iKfs1K9X-HV",
        "colab_type": "text"
      },
      "source": [
        "Create the unit circle to verify the computation"
      ]
    },
    {
      "cell_type": "code",
      "metadata": {
        "id": "PETcDuBjX9uS",
        "colab_type": "code",
        "colab": {}
      },
      "source": [
        "res = 100\n",
        "w = np.arange(0,res)\n",
        "unit_circle = np.exp(2.0*np.pi*1j*w/res)"
      ],
      "execution_count": null,
      "outputs": []
    },
    {
      "cell_type": "markdown",
      "metadata": {
        "id": "jaB5jKXMXwA2",
        "colab_type": "text"
      },
      "source": [
        "Define the function for rando selection of a point and computing mid-point from a start point to the random point"
      ]
    },
    {
      "cell_type": "code",
      "metadata": {
        "id": "X-Yt2oFdV_ir",
        "colab_type": "code",
        "colab": {
          "base_uri": "https://localhost:8080/",
          "height": 283
        },
        "outputId": "e2eb2b46-65d4-4547-e233-7baec180fd90"
      },
      "source": [
        "start = 0.1+0.5j\n",
        "\n",
        "#plot\n",
        "import matplotlib.pyplot as plt\n",
        "\n",
        "plt.plot(np.real(unit_circle), np.imag(unit_circle), 'b-')\n",
        "plt.plot(np.real(start), np.imag(start), 'g.')\n",
        "plt.plot(np.real(points), np.imag(points), 'r.')"
      ],
      "execution_count": null,
      "outputs": [
        {
          "output_type": "execute_result",
          "data": {
            "text/plain": [
              "[<matplotlib.lines.Line2D at 0x7fce7f403400>]"
            ]
          },
          "metadata": {
            "tags": []
          },
          "execution_count": 8
        },
        {
          "output_type": "display_data",
          "data": {
            "image/png": "[encoded data removed]",
            "text/plain": [
              "<Figure size 432x288 with 1 Axes>"
            ]
          },
          "metadata": {
            "tags": [],
            "needs_background": "light"
          }
        }
      ]
    },
    {
      "cell_type": "code",
      "metadata": {
        "id": "71aH8J3AZCn2",
        "colab_type": "code",
        "colab": {
          "base_uri": "https://localhost:8080/",
          "height": 319
        },
        "outputId": "b7fd97bd-68a9-437f-f4d5-2ae245bdaa71"
      },
      "source": [
        "rand_loc = np.random.choice(r)\n",
        "print(rand_loc, points[rand_loc])\n",
        "mid_point = (points[rand_loc]-start)/2.0\n",
        "new_point = start+mid_point\n",
        "print(new_point)\n",
        "\n",
        "#plot\n",
        "plt.plot(np.real(new_point), np.imag(new_point), 'b.')\n",
        "plt.plot(np.real(start), np.imag(start), 'g.')\n",
        "plt.plot(np.real(points), np.imag(points), 'r.')"
      ],
      "execution_count": null,
      "outputs": [
        {
          "output_type": "stream",
          "text": [
            "0 (1+0j)\n",
            "(0.55+0.25j)\n"
          ],
          "name": "stdout"
        },
        {
          "output_type": "execute_result",
          "data": {
            "text/plain": [
              "[<matplotlib.lines.Line2D at 0x7fce7748c908>]"
            ]
          },
          "metadata": {
            "tags": []
          },
          "execution_count": 22
        },
        {
          "output_type": "display_data",
          "data": {
            "image/png": "[encoded data removed]",
            "text/plain": [
              "<Figure size 432x288 with 1 Axes>"
            ]
          },
          "metadata": {
            "tags": [],
            "needs_background": "light"
          }
        }
      ]
    },
    {
      "cell_type": "markdown",
      "metadata": {
        "id": "SAEzFOJ7bMa7",
        "colab_type": "text"
      },
      "source": [
        "We put this code into a function for iterate the calls to create our chaos games"
      ]
    },
    {
      "cell_type": "code",
      "metadata": {
        "id": "H_HF5RbkaVaO",
        "colab_type": "code",
        "colab": {
          "base_uri": "https://localhost:8080/",
          "height": 301
        },
        "outputId": "8baffcb8-36ee-4d77-ea14-648f39a73c77"
      },
      "source": [
        "def compute(loc):\n",
        "  '''\n",
        "  Compute the next position\n",
        "  '''\n",
        "  rand_loc = np.random.choice(r)\n",
        "  #print(rand_loc, points[rand_loc])\n",
        "  mid_point = (points[rand_loc]-loc)/2.0\n",
        "  new_point = loc+mid_point\n",
        "\n",
        "  return new_point, points[rand_loc]\n",
        "\n",
        "new_point, rand_point = compute(start)\n",
        "print(new_point)\n",
        "\n",
        "#plot\n",
        "plt.plot(np.real(new_point), np.imag(new_point), 'b.')\n",
        "plt.plot(np.real(start), np.imag(start), 'g.')\n",
        "plt.plot(np.real(points), np.imag(points), 'r.')"
      ],
      "execution_count": null,
      "outputs": [
        {
          "output_type": "stream",
          "text": [
            "(-0.19999999999999987+0.6830127018922194j)\n"
          ],
          "name": "stdout"
        },
        {
          "output_type": "execute_result",
          "data": {
            "text/plain": [
              "[<matplotlib.lines.Line2D at 0x7fce75bdef28>]"
            ]
          },
          "metadata": {
            "tags": []
          },
          "execution_count": 27
        },
        {
          "output_type": "display_data",
          "data": {
            "image/png": "[encoded data removed]",
            "text/plain": [
              "<Figure size 432x288 with 1 Axes>"
            ]
          },
          "metadata": {
            "tags": [],
            "needs_background": "light"
          }
        }
      ]
    },
    {
      "cell_type": "markdown",
      "metadata": {
        "id": "Jf9ibUCRcN49",
        "colab_type": "text"
      },
      "source": [
        "Run the chaos game"
      ]
    },
    {
      "cell_type": "code",
      "metadata": {
        "id": "UJpIj_Njb632",
        "colab_type": "code",
        "colab": {
          "base_uri": "https://localhost:8080/",
          "height": 283
        },
        "outputId": "32583a7d-90fb-4b78-bec3-cc7314231ffd"
      },
      "source": [
        "iterations = 1000\n",
        "\n",
        "next_point = start\n",
        "for iteration in range(iterations):\n",
        "  next_point, rand_point = compute(next_point)\n",
        "  plt.plot(np.real(next_point), np.imag(next_point), 'b.')\n",
        "\n",
        "#plot\n",
        "plt.plot(np.real(start), np.imag(start), 'g.')\n",
        "plt.plot(np.real(points), np.imag(points), 'r.')"
      ],
      "execution_count": null,
      "outputs": [
        {
          "output_type": "execute_result",
          "data": {
            "text/plain": [
              "[<matplotlib.lines.Line2D at 0x7fce743c3f60>]"
            ]
          },
          "metadata": {
            "tags": []
          },
          "execution_count": 30
        },
        {
          "output_type": "display_data",
          "data": {
            "image/png": "[encoded data removed]",
            "text/plain": [
              "<Figure size 432x288 with 1 Axes>"
            ]
          },
          "metadata": {
            "tags": [],
            "needs_background": "light"
          }
        }
      ]
    },
    {
      "cell_type": "code",
      "metadata": {
        "id": "6SyTmqVpcula",
        "colab_type": "code",
        "colab": {}
      },
      "source": [
        ""
      ],
      "execution_count": null,
      "outputs": []
    }
  ]
}